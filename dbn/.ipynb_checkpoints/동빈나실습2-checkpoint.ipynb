{
 "cells": [
  {
   "cell_type": "code",
   "execution_count": 1,
   "metadata": {},
   "outputs": [],
   "source": [
    "import tensorflow as tf"
   ]
  },
  {
   "cell_type": "code",
   "execution_count": 2,
   "metadata": {},
   "outputs": [],
   "source": [
    "import numpy as np\n",
    "#import pandas as pd\n",
    "from pandas.io.parsers import read_csv"
   ]
  },
  {
   "cell_type": "code",
   "execution_count": 15,
   "metadata": {},
   "outputs": [
    {
     "data": {
      "text/plain": [
       "array([[ 2.0100100e+07, -4.9000001e+00, -1.1000000e+01,  8.9999998e-01,\n",
       "         0.0000000e+00,  2.1230000e+03],\n",
       "       [ 2.0100102e+07, -3.0999999e+00, -5.5000000e+00,  5.5000000e+00,\n",
       "         8.0000001e-01,  2.1230000e+03],\n",
       "       [ 2.0100104e+07, -2.9000001e+00, -6.9000001e+00,  1.4000000e+00,\n",
       "         0.0000000e+00,  2.1230000e+03],\n",
       "       ...,\n",
       "       [ 2.0171228e+07,  2.9000001e+00, -2.0999999e+00,  8.0000000e+00,\n",
       "         0.0000000e+00,  2.9010000e+03],\n",
       "       [ 2.0171230e+07,  2.9000001e+00, -1.6000000e+00,  7.0999999e+00,\n",
       "         6.0000002e-01,  2.9010000e+03],\n",
       "       [ 2.0171232e+07,  2.0999999e+00, -2.0000000e+00,  5.8000002e+00,\n",
       "         4.0000001e-01,  2.9010000e+03]], dtype=float32)"
      ]
     },
     "execution_count": 15,
     "metadata": {},
     "output_type": "execute_result"
    }
   ],
   "source": [
    "model = tf.global_variables_initializer()\n",
    "\n",
    "data = read_csv('./input_data/200515_MVR_input_price_data.csv', sep = ',')\n",
    "xy = np.array(data, dtype=np.float32)\n",
    "\n",
    "xy"
   ]
  },
  {
   "cell_type": "code",
   "execution_count": 16,
   "metadata": {},
   "outputs": [],
   "source": [
    "xData = xy[:, 1:-1]\n",
    "yData = xy[:, [-1]]"
   ]
  },
  {
   "cell_type": "code",
   "execution_count": 17,
   "metadata": {},
   "outputs": [],
   "source": [
    "X = tf.placeholder(tf.float32, shape=[None, 4])\n",
    "Y = tf.placeholder(tf.float32, shape=[None, 1])\n",
    "W = tf.Variable(tf.random_normal([4, 1]), name='weight')\n",
    "b = tf.Variable(tf.random_normal([1]), name='bias')"
   ]
  },
  {
   "cell_type": "code",
   "execution_count": 18,
   "metadata": {},
   "outputs": [],
   "source": [
    "H = tf.matmul(X, W) + b"
   ]
  },
  {
   "cell_type": "code",
   "execution_count": 19,
   "metadata": {},
   "outputs": [],
   "source": [
    "cost = tf.reduce_mean(tf.square(Y - H))"
   ]
  },
  {
   "cell_type": "code",
   "execution_count": 20,
   "metadata": {},
   "outputs": [],
   "source": [
    "optimizer = tf.train.GradientDescentOptimizer(learning_rate = 0.000005)\n",
    "train = optimizer.minimize(cost)"
   ]
  },
  {
   "cell_type": "code",
   "execution_count": 21,
   "metadata": {},
   "outputs": [],
   "source": [
    "sess = tf.Session()\n",
    "sess.run(tf.global_variables_initializer())"
   ]
  },
  {
   "cell_type": "code",
   "execution_count": 22,
   "metadata": {},
   "outputs": [
    {
     "name": "stdout",
     "output_type": "stream",
     "text": [
      "# 0  손실 비용:  12974697.0\n",
      "- 배추 가격:  [0.52255744]\n",
      "# 5000  손실 비용:  2511781.5\n",
      "- 배추 가격:  [1577.863]\n",
      "# 10000  손실 비용:  2298920.8\n",
      "- 배추 가격:  [2268.554]\n",
      "# 15000  손실 비용:  2275821.5\n",
      "- 배추 가격:  [2483.0642]\n",
      "# 20000  손실 비용:  2271031.2\n",
      "- 배추 가격:  [2549.8381]\n",
      "# 25000  손실 비용:  2268024.5\n",
      "- 배추 가격:  [2570.7324]\n",
      "# 30000  손실 비용:  2265206.5\n",
      "- 배추 가격:  [2577.3982]\n",
      "# 35000  손실 비용:  2262427.0\n",
      "- 배추 가격:  [2579.6094]\n",
      "# 40000  손실 비용:  2259669.2\n",
      "- 배추 가격:  [2580.549]\n",
      "# 45000  손실 비용:  2256929.2\n",
      "- 배추 가격:  [2580.8848]\n",
      "# 50000  손실 비용:  2254213.2\n",
      "- 배추 가격:  [2581.257]\n",
      "# 55000  손실 비용:  2251516.2\n",
      "- 배추 가격:  [2581.724]\n",
      "# 60000  손실 비용:  2248843.5\n",
      "- 배추 가격:  [2582.204]\n",
      "# 65000  손실 비용:  2246188.8\n",
      "- 배추 가격:  [2582.5444]\n",
      "# 70000  손실 비용:  2243544.2\n",
      "- 배추 가격:  [2583.0093]\n",
      "# 75000  손실 비용:  2240924.5\n",
      "- 배추 가격:  [2583.308]\n",
      "# 80000  손실 비용:  2238326.8\n",
      "- 배추 가격:  [2583.4805]\n",
      "# 85000  손실 비용:  2235740.2\n",
      "- 배추 가격:  [2583.5881]\n",
      "# 90000  손실 비용:  2233165.5\n",
      "- 배추 가격:  [2583.818]\n",
      "# 95000  손실 비용:  2230625.0\n",
      "- 배추 가격:  [2584.158]\n",
      "# 100000  손실 비용:  2228096.8\n",
      "- 배추 가격:  [2584.5037]\n"
     ]
    }
   ],
   "source": [
    "for step in range(100001):\n",
    "    cost_, hypo_, _ = sess.run([cost, H, train], feed_dict={X: xData, Y: yData})\n",
    "    if step % 5000 == 0:\n",
    "        print(\"#\", step, \" 손실 비용: \", cost_)\n",
    "        print(\"- 배추 가격: \", hypo_[0])"
   ]
  },
  {
   "cell_type": "code",
   "execution_count": 23,
   "metadata": {},
   "outputs": [
    {
     "name": "stdout",
     "output_type": "stream",
     "text": [
      "학습된 모델을 저장하였습니다.\n"
     ]
    }
   ],
   "source": [
    "saver = tf.train.Saver()\n",
    "save_path = saver.save(sess, './output_data/200515_MLR_price_predction_model.cpkt')\n",
    "print(\"학습된 모델을 저장하였습니다.\")"
   ]
  },
  {
   "cell_type": "markdown",
   "metadata": {},
   "source": [
    "## 배추가격예측"
   ]
  },
  {
   "cell_type": "code",
   "execution_count": 26,
   "metadata": {},
   "outputs": [
    {
     "name": "stdout",
     "output_type": "stream",
     "text": [
      "INFO:tensorflow:Restoring parameters from ./output_data/200515_MLR_price_predction_model.cpkt\n"
     ]
    },
    {
     "ename": "NameError",
     "evalue": "name 'avg_temp' is not defined",
     "output_type": "error",
     "traceback": [
      "\u001b[1;31m---------------------------------------------------------------------------\u001b[0m",
      "\u001b[1;31mNameError\u001b[0m                                 Traceback (most recent call last)",
      "\u001b[1;32m<ipython-input-26-43ff3849b577>\u001b[0m in \u001b[0;36m<module>\u001b[1;34m\u001b[0m\n\u001b[0;32m      5\u001b[0m     \u001b[0msaver\u001b[0m\u001b[1;33m.\u001b[0m\u001b[0mrestore\u001b[0m\u001b[1;33m(\u001b[0m\u001b[0msess\u001b[0m\u001b[1;33m,\u001b[0m \u001b[0msave_path\u001b[0m\u001b[1;33m)\u001b[0m\u001b[1;33m\u001b[0m\u001b[1;33m\u001b[0m\u001b[0m\n\u001b[0;32m      6\u001b[0m \u001b[1;33m\u001b[0m\u001b[0m\n\u001b[1;32m----> 7\u001b[1;33m     \u001b[0mdata\u001b[0m \u001b[1;33m=\u001b[0m \u001b[1;33m(\u001b[0m\u001b[1;33m(\u001b[0m\u001b[0mavg_temp\u001b[0m\u001b[1;33m,\u001b[0m \u001b[0mmin_temp\u001b[0m\u001b[1;33m,\u001b[0m \u001b[0mmax_temp\u001b[0m\u001b[1;33m,\u001b[0m \u001b[0mrain_fall\u001b[0m\u001b[1;33m)\u001b[0m\u001b[1;33m,\u001b[0m \u001b[1;33m)\u001b[0m \u001b[1;31m# 2-D data\u001b[0m\u001b[1;33m\u001b[0m\u001b[1;33m\u001b[0m\u001b[0m\n\u001b[0m\u001b[0;32m      8\u001b[0m     \u001b[0marr\u001b[0m \u001b[1;33m=\u001b[0m \u001b[0mnp\u001b[0m\u001b[1;33m.\u001b[0m\u001b[0marray\u001b[0m\u001b[1;33m(\u001b[0m\u001b[0mdata\u001b[0m\u001b[1;33m,\u001b[0m \u001b[0mdtype\u001b[0m\u001b[1;33m=\u001b[0m\u001b[0mnp\u001b[0m\u001b[1;33m.\u001b[0m\u001b[0mfloat32\u001b[0m\u001b[1;33m)\u001b[0m\u001b[1;33m\u001b[0m\u001b[1;33m\u001b[0m\u001b[0m\n\u001b[0;32m      9\u001b[0m     \u001b[0mx_data\u001b[0m \u001b[1;33m=\u001b[0m \u001b[0marr\u001b[0m\u001b[1;33m[\u001b[0m\u001b[1;36m0\u001b[0m\u001b[1;33m:\u001b[0m\u001b[1;36m4\u001b[0m\u001b[1;33m]\u001b[0m\u001b[1;33m\u001b[0m\u001b[1;33m\u001b[0m\u001b[0m\n",
      "\u001b[1;31mNameError\u001b[0m: name 'avg_temp' is not defined"
     ]
    }
   ],
   "source": [
    "with tf.Session() as sess:\n",
    "    sess.run(model)\n",
    "    \n",
    "    save_path = \"./output_data/200515_MLR_price_predction_model.cpkt\"\n",
    "    saver.restore(sess, save_path)\n",
    "    \n",
    "    data = ((avg_temp, min_temp, max_temp, rain_fall), ) # 2-D data\n",
    "    arr = np.array(data, dtype=np.float32)\n",
    "    x_data = arr[0:4]\n",
    "    dict = sess.run(H, feed_dict={X: x_data})\n",
    "    print(dict[0])"
   ]
  },
  {
   "cell_type": "code",
   "execution_count": null,
   "metadata": {},
   "outputs": [],
   "source": []
  },
  {
   "cell_type": "code",
   "execution_count": null,
   "metadata": {},
   "outputs": [],
   "source": []
  }
 ],
 "metadata": {
  "kernelspec": {
   "display_name": "Python 3",
   "language": "python",
   "name": "python3"
  },
  "language_info": {
   "codemirror_mode": {
    "name": "ipython",
    "version": 3
   },
   "file_extension": ".py",
   "mimetype": "text/x-python",
   "name": "python",
   "nbconvert_exporter": "python",
   "pygments_lexer": "ipython3",
   "version": "3.6.10"
  }
 },
 "nbformat": 4,
 "nbformat_minor": 4
}
