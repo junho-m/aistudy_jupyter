{
 "cells": [
  {
   "cell_type": "markdown",
   "metadata": {},
   "source": [
    "# LeNet"
   ]
  },
  {
   "cell_type": "markdown",
   "metadata": {},
   "source": [
    "## 개요\n",
    "\n",
    "1. 창시자 : Yann LeCun\n",
    "\n",
    "2. 논문 : Gradient-based learning applied to document recognition (1998)\n",
    "\n",
    "3. 배경 : Fully-Connected Layer의 근본적인 한계\n",
    "\n",
    "    Fully-Connected Layer는 모든 노드들이 연결되어 있으므로 신경망을 깊게 설계할수록 연산량이 기하급수적으로 늘어난다.<p> \n",
    "    또한 신경망이 깊을 경우 가중치들을 갱신하기 위한 역전파 과정에서 미분계수가 0에 가까워지는 'Gradient Vanishing' 현상이 일어나면서 앞부분의 가중치 갱신이 일어나지 않아 학습내용이 반영되지 않는 심각한 문제가 발생한다.\n"
   ]
  },
  {
   "cell_type": "markdown",
   "metadata": {},
   "source": [
    "## 주요 개념\n",
    "\n",
    "1. Fully-Connected Layer\n",
    "\n",
    "\n",
    "2. Gradient Vanishing\n",
    "\n",
    "\n",
    "3. Convolutions\n",
    "\n",
    "\n",
    "4. SubSampling\n",
    "\n"
   ]
  },
  {
   "cell_type": "markdown",
   "metadata": {},
   "source": [
    "## 모델 구조"
   ]
  },
  {
   "cell_type": "markdown",
   "metadata": {},
   "source": [
    "![LeNet1구조.png](LeNet1구조.png)\n",
    "![LeNet5구조.png](LeNet5구조.png)"
   ]
  },
  {
   "cell_type": "markdown",
   "metadata": {},
   "source": [
    "C:Convolutions\n",
    "S:Sub Sample\n",
    "F:Full Connection\n",
    "\n",
    "\n",
    "||LeNet-1<P>i.maps | LeNet-5<P>i.maps | LeNet-1<P>fillter| LeNet-5<P>fillter | LeNet-1<P>f.maps| LeNet-5<P>f.maps |LeNet-1<P>train parameter |LeNet-5 <P>train parameter|비고|\n",
    "| --- | --- | --- | --- | --- | --- | --- | --- | --- | --- |\n",
    "|INPUT | 28 x 28 | 32 x 32 ||||||||\n",
    "|C1 | 24 x 24 | 28 x 28 |5*5|5*5|4|6|106|156||\n",
    "|S2 | 12 x 12 | 14 x 14 |---|---|4|6|8|12||\n",
    "|C3 | 8 x 8 | 10 x 10 |5*5|5*5|12|16|1212|1516||\n",
    "|S4 | 4 x 4 | 5 x 5 |---|---|12|16|24|32||\n",
    "|C5 | --- | 120 |--|5*5|---|---||48120||\n",
    "|F6 | --- | 84 |---|---|---|---||10164||\n",
    "|OUTPUT | 10 | 10 |---|---|---|---|1350|60000||"
   ]
  },
  {
   "cell_type": "markdown",
   "metadata": {},
   "source": [
    "## LeNet-1 특징\n",
    "1. Convolution 개념적용\n",
    "2. share weight 개념 적용\n",
    "3. max pooling"
   ]
  },
  {
   "cell_type": "markdown",
   "metadata": {},
   "source": [
    "## LeNet-5 특징\n",
    "1. INPUT 크기가 크다\n",
    "2. 성능개선 : Fully-Connected Layer < LeNet-1 < LeNet-5"
   ]
  },
  {
   "cell_type": "markdown",
   "metadata": {},
   "source": [
    "## 파라메터 개수 산출\n",
    "1. C1 레이어: (가중치 * 입력맵개수 + 바이어스) * 특성맵개수 \n",
    "2. S2 레이어: (가중치 + 바이어스) * 특성맵개수   \n",
    "3. C3 레이어: 합산( 가중치 * 입력맵개수 + 바이어스 ) * 특성맵 개수 )\n",
    "![조합.png](조합.png)\n",
    "4. S4 레이어: (가중치 + 바이어스) * 특성맵개수\n",
    "5. C5 레이어: (가중치 * 입력맵개수 + 바이어스) * 특성맵 개수 \n",
    "6. F6 레이어: 연결개수 = (입력개수 + 바이어스) * 출력개수  "
   ]
  },
  {
   "cell_type": "markdown",
   "metadata": {},
   "source": [
    "## 참고자료\n",
    "1. https://bskyvision.com/418\n",
    "2. https://laonple.blog.me/220648539191"
   ]
  },
  {
   "cell_type": "code",
   "execution_count": null,
   "metadata": {},
   "outputs": [],
   "source": []
  }
 ],
 "metadata": {
  "kernelspec": {
   "display_name": "Python 3",
   "language": "python",
   "name": "python3"
  },
  "language_info": {
   "codemirror_mode": {
    "name": "ipython",
    "version": 3
   },
   "file_extension": ".py",
   "mimetype": "text/x-python",
   "name": "python",
   "nbconvert_exporter": "python",
   "pygments_lexer": "ipython3",
   "version": "3.7.7"
  }
 },
 "nbformat": 4,
 "nbformat_minor": 4
}
