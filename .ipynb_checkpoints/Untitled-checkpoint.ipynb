{
 "cells": [
  {
   "cell_type": "markdown",
   "metadata": {},
   "source": [
    "# LeNet"
   ]
  },
  {
   "cell_type": "markdown",
   "metadata": {},
   "source": [
    "## 개요\n",
    "\n",
    "1. 창시자 : Yann LeCun\n",
    "\n",
    "2. 논문 : Gradient-based learning applied to document recognition (1998)\n",
    "\n",
    "3. 배경 : Fully-Connected Layer의 근본적인 한계\n",
    "\n",
    "    기존의 딥러닝 모델들은 'Fully-Connected Layer'들로 이루어져 있었고 그것으로 인한 여러가지 문제점들이 존재했다. 먼저 모든 노드들이 연결되어 있으므로 신경망을 깊게 설계할수록 연산량이 기하급수적으로 늘어난다. 또한 신경망이 깊을 경우 가중치들을 갱신하기 위한 역전파 과정에서 미분계수가 0에 가까워지는 'Gradient Vanishing' 현상이 일어나면서 앞부분의 가중치 갱신이 일어나지 않아 학습내용이 반영되지 않는 심각한 문제가 발생한다.\n",
    "\n",
    "4. \n",
    "\n",
    "\n"
   ]
  },
  {
   "cell_type": "markdown",
   "metadata": {},
   "source": [
    "## 주요 개념\n",
    "\n",
    "1. Fully-Connected Layer\n",
    "\n",
    "\n",
    "2. Gradient Vanishing\n",
    "\n",
    "\n",
    "3. 필터\n",
    "\n",
    "\n",
    "4. Pooling\n",
    "\n",
    "\n"
   ]
  },
  {
   "cell_type": "markdown",
   "metadata": {},
   "source": [
    "## 네트워크 구조"
   ]
  },
  {
   "cell_type": "code",
   "execution_count": null,
   "metadata": {},
   "outputs": [],
   "source": []
  },
  {
   "cell_type": "code",
   "execution_count": null,
   "metadata": {},
   "outputs": [],
   "source": []
  },
  {
   "cell_type": "code",
   "execution_count": null,
   "metadata": {},
   "outputs": [],
   "source": []
  }
 ],
 "metadata": {
  "kernelspec": {
   "display_name": "Python 3",
   "language": "python",
   "name": "python3"
  },
  "language_info": {
   "codemirror_mode": {
    "name": "ipython",
    "version": 3
   },
   "file_extension": ".py",
   "mimetype": "text/x-python",
   "name": "python",
   "nbconvert_exporter": "python",
   "pygments_lexer": "ipython3",
   "version": "3.7.7"
  }
 },
 "nbformat": 4,
 "nbformat_minor": 4
}
